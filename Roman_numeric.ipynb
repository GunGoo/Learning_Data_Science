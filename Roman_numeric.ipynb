{
 "cells": [
  {
   "cell_type": "code",
   "execution_count": 11,
   "metadata": {},
   "outputs": [
    {
     "name": "stdout",
     "output_type": "stream",
     "text": [
      "DCCCLXXIX\n"
     ]
    }
   ],
   "source": [
    "'''\n",
    "I = 1\n",
    "IV = 4\n",
    "V = 5\n",
    "IX = 9\n",
    "X = 10\n",
    "XI = 11\n",
    "L = 50\n",
    "C = 100\n",
    "D = 500\n",
    "M = 1000\n",
    "'''\n",
    "dict = {1:'I',5:'V',10:'X',50:'L',100:'C',500:'D',1000:'M'}\n",
    "\n",
    "num = 879\n",
    "digit = 1\n",
    "ans = \"\"\n",
    "for ch in reversed(str(num)):\n",
    "    temp = int(ch) * digit\n",
    "    if temp == 9*digit:\n",
    "        ans += dict[digit*10] + dict[digit]\n",
    "    elif temp == 4*digit:\n",
    "        ans += dict[digit*5] + dict[digit]\n",
    "    else:\n",
    "        temp_ans = \"\"\n",
    "        while temp > 0:\n",
    "            for key,value in reversed(dict.items()):\n",
    "                if key < temp:\n",
    "                    res = temp // key\n",
    "                    temp_ans += dict[key] * res\n",
    "                    temp = temp % key \n",
    "        ans += temp_ans[::-1]\n",
    "    digit *= 10\n",
    "\n",
    "print(ans[::-1])\n",
    "                \n",
    "    \n",
    "\n"
   ]
  },
  {
   "cell_type": "code",
   "execution_count": null,
   "metadata": {},
   "outputs": [],
   "source": []
  },
  {
   "cell_type": "code",
   "execution_count": null,
   "metadata": {},
   "outputs": [],
   "source": []
  }
 ],
 "metadata": {
  "kernelspec": {
   "display_name": "Python 3",
   "language": "python",
   "name": "python3"
  },
  "language_info": {
   "codemirror_mode": {
    "name": "ipython",
    "version": 3
   },
   "file_extension": ".py",
   "mimetype": "text/x-python",
   "name": "python",
   "nbconvert_exporter": "python",
   "pygments_lexer": "ipython3",
   "version": "3.8.5"
  }
 },
 "nbformat": 4,
 "nbformat_minor": 4
}
