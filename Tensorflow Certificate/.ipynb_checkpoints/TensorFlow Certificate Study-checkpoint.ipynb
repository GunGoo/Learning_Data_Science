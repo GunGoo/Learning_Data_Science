{
 "cells": [
  {
   "cell_type": "markdown",
   "id": "handed-mayor",
   "metadata": {},
   "source": [
    "# TensorFlow Certificate Study"
   ]
  },
  {
   "cell_type": "markdown",
   "id": "utility-tyler",
   "metadata": {},
   "source": [
    "**Callbacks**: To stop training at specific threshold during epoch"
   ]
  },
  {
   "cell_type": "code",
   "execution_count": null,
   "id": "minimal-generation",
   "metadata": {},
   "outputs": [],
   "source": [
    "class myCallback(tf.keras.callbacks.Callback):\n",
    "    def on_epoch_end(self, epoch, logs={}):\n",
    "        if logs.get(\"accuracy\") > 0.6:\n",
    "            print(\"\\nReached 60% accuracy so cancelling training!\")\n",
    "            self.model.stop_training = True\n",
    "\n",
    "\n",
    "...\n",
    "model.fit(x_train, y_train, epochs=10, callbacks=[callbacks])"
   ]
  },
  {
   "cell_type": "markdown",
   "id": "jewish-female",
   "metadata": {},
   "source": [
    "**Flatten**: A layer that takes input shape square and turns into a simple linear array."
   ]
  },
  {
   "cell_type": "code",
   "execution_count": null,
   "id": "collectible-indian",
   "metadata": {},
   "outputs": [],
   "source": [
    "model = keras.Sequential([\n",
    "\tkeras.layers.Flatten(input_shape=(28,28)),\n",
    "\tkeras.layers.Dense(128, activation=tf.nn.relu),\n",
    "\tkeras.layers.Dense(10, activation=tf.nn.softmax)\n",
    "])"
   ]
  },
  {
   "cell_type": "code",
   "execution_count": 24,
   "id": "filled-purse",
   "metadata": {},
   "outputs": [
    {
     "name": "stdout",
     "output_type": "stream",
     "text": [
      "2.3.0\n",
      "Epoch 1/5\n",
      "1875/1875 [==============================] - 1s 373us/step - loss: 0.4942 - accuracy: 0.8242\n",
      "Epoch 2/5\n",
      "1875/1875 [==============================] - 1s 412us/step - loss: 0.3736 - accuracy: 0.8657\n",
      "Epoch 3/5\n",
      "1875/1875 [==============================] - 1s 402us/step - loss: 0.3359 - accuracy: 0.8767\n",
      "Epoch 4/5\n",
      "1875/1875 [==============================] - 1s 378us/step - loss: 0.3128 - accuracy: 0.8858\n",
      "Epoch 5/5\n",
      "1875/1875 [==============================] - 1s 372us/step - loss: 0.2950 - accuracy: 0.8910\n",
      "313/313 [==============================] - 0s 281us/step - loss: 0.3919 - accuracy: 0.8539\n"
     ]
    },
    {
     "data": {
      "text/plain": [
       "[0.39193227887153625, 0.8539000153541565]"
      ]
     },
     "execution_count": 24,
     "metadata": {},
     "output_type": "execute_result"
    }
   ],
   "source": [
    "import tensorflow as tf\n",
    "\n",
    "print(tf.__version__)\n",
    "\n",
    "mnist = tf.keras.datasets.fashion_mnist\n",
    "(training_images, training_labels), (test_images, test_labels) = mnist.load_data()\n",
    "\n",
    "training_images = training_images/255.0\n",
    "test_images = test_images/255.0\n",
    "model = tf.keras.models.Sequential([tf.keras.layers.Flatten(),\n",
    "                                   tf.keras.layers.Dense(units=128, activation=tf.nn.relu),\n",
    "                                   tf.keras.layers.Dense(units=10, activation=tf.nn.softmax)])\n",
    "model.compile(optimizer=tf.optimizers.Adam(),\n",
    "             loss=\"sparse_categorical_crossentropy\",\n",
    "             metrics=['accuracy'])\n",
    "\n",
    "model.fit(training_images, training_labels, epochs=5)\n",
    "model.evaluate(test_images, test_labels)"
   ]
  },
  {
   "cell_type": "code",
   "execution_count": 29,
   "id": "cheap-sixth",
   "metadata": {},
   "outputs": [
    {
     "name": "stdout",
     "output_type": "stream",
     "text": [
      "2.3.0\n",
      "Epoch 1/5\n",
      "1874/1875 [============================>.] - ETA: 0s - loss: 0.1829 - accuracy: 0.9452\n",
      "Enough Accuracy\n",
      "1875/1875 [==============================] - 3s 2ms/step - loss: 0.1830 - accuracy: 0.9452\n",
      "313/313 [==============================] - 0s 818us/step - loss: 0.0901 - accuracy: 0.9714\n",
      "[1.7890549e-07 1.4293015e-07 1.4640165e-04 1.4170943e-05 4.6873322e-10\n",
      " 6.1238389e-08 6.9644234e-12 9.9983811e-01 2.4200992e-07 7.6020439e-07]\n",
      "7\n"
     ]
    }
   ],
   "source": [
    "import tensorflow as tf\n",
    "print(tf.__version__)\n",
    "\n",
    "class myCallback(tf.keras.callbacks.Callback):\n",
    "    def on_epoch_end(self, epoch, logs={}):\n",
    "        if(logs.get('accuracy') > 0.97):\n",
    "            print(\"\\nEnough Accuracy\")\n",
    "            self.model.stop_training = True\n",
    "\n",
    "callbacks = myCallback()\n",
    "mnist = tf.keras.datasets.mnist\n",
    "\n",
    "(training_images, training_labels) ,  (test_images, test_labels) = mnist.load_data()\n",
    "\n",
    "training_images = training_images/255.0\n",
    "test_images = test_images/255.0\n",
    "\n",
    "model = tf.keras.models.Sequential([tf.keras.layers.Flatten(),\n",
    "                                    tf.keras.layers.Dense(1024, activation=tf.nn.relu),\n",
    "                                    tf.keras.layers.Dense(10, activation=tf.nn.softmax)])\n",
    "\n",
    "model.compile(optimizer = 'adam',\n",
    "              loss = 'sparse_categorical_crossentropy',\n",
    "             metrics=['accuracy'])\n",
    "\n",
    "model.fit(training_images, training_labels, epochs=5, callbacks = [callbacks]) \n",
    "\n",
    "model.evaluate(test_images, test_labels)\n",
    "\n",
    "classifications = model.predict(test_images)\n",
    "\n",
    "print(classifications[0])\n",
    "print(test_labels[0])"
   ]
  },
  {
   "cell_type": "code",
   "execution_count": 19,
   "id": "interested-chamber",
   "metadata": {},
   "outputs": [
    {
     "name": "stdout",
     "output_type": "stream",
     "text": [
      "2.3.0\n",
      "Epoch 1/5\n",
      "1875/1875 [==============================] - 2s 915us/step - loss: 0.2012 - accuracy: 0.9406\n",
      "Epoch 2/5\n",
      "1875/1875 [==============================] - 2s 862us/step - loss: 0.0813 - accuracy: 0.9747\n",
      "Epoch 3/5\n",
      "1875/1875 [==============================] - 2s 882us/step - loss: 0.0517 - accuracy: 0.9838\n",
      "Epoch 4/5\n",
      "1875/1875 [==============================] - 2s 886us/step - loss: 0.0371 - accuracy: 0.9879\n",
      "Epoch 5/5\n",
      "1875/1875 [==============================] - 2s 851us/step - loss: 0.0268 - accuracy: 0.9912\n",
      "313/313 [==============================] - 0s 348us/step - loss: 0.0672 - accuracy: 0.9812\n",
      "[1.4179541e-08 4.6934854e-08 8.8751500e-07 1.7521089e-06 6.1626745e-11\n",
      " 2.7694851e-09 1.3904539e-12 9.9999690e-01 6.3396989e-11 2.9934768e-07]\n",
      "7\n"
     ]
    }
   ],
   "source": [
    "import tensorflow as tf\n",
    "print(tf.__version__)\n",
    "\n",
    "mnist = tf.keras.datasets.mnist\n",
    "\n",
    "(training_images, training_labels) ,  (test_images, test_labels) = mnist.load_data()\n",
    "\n",
    "training_images = training_images/255.0\n",
    "test_images = test_images/255.0\n",
    "\n",
    "model = tf.keras.models.Sequential([tf.keras.layers.Flatten(),\n",
    "                                    tf.keras.layers.Dense(512, activation=tf.nn.relu),\n",
    "                                    tf.keras.layers.Dense(10, activation=tf.nn.softmax)])\n",
    "\n",
    "model.compile(optimizer = 'adam',\n",
    "              loss = 'sparse_categorical_crossentropy',\n",
    "             metrics=['accuracy'])\n",
    "\n",
    "model.fit(training_images, training_labels, epochs=5)\n",
    "\n",
    "model.evaluate(test_images, test_labels)\n",
    "\n",
    "classifications = model.predict(test_images)\n",
    "\n",
    "print(classifications[0])\n",
    "print(test_labels[0])"
   ]
  },
  {
   "cell_type": "code",
   "execution_count": 31,
   "id": "bound-violin",
   "metadata": {},
   "outputs": [
    {
     "name": "stdout",
     "output_type": "stream",
     "text": [
      "Epoch 1/5\n",
      "1875/1875 [==============================] - 1s 799us/step - loss: 0.2010 - accuracy: 0.9409\n",
      "Epoch 2/5\n",
      "1875/1875 [==============================] - 2s 810us/step - loss: 0.0793 - accuracy: 0.9758\n",
      "Epoch 3/5\n",
      "1875/1875 [==============================] - 1s 776us/step - loss: 0.0523 - accuracy: 0.9836\n",
      "Epoch 4/5\n",
      "1875/1875 [==============================] - 1s 762us/step - loss: 0.0365 - accuracy: 0.9885\n",
      "Epoch 5/5\n",
      "1826/1875 [============================>.] - ETA: 0s - loss: 0.0266 - accuracy: 0.9917\n",
      "Reached 99% accuracy so cancelling training!\n",
      "1875/1875 [==============================] - 1s 767us/step - loss: 0.0265 - accuracy: 0.9917\n"
     ]
    },
    {
     "ename": "KeyError",
     "evalue": "'acc'",
     "output_type": "error",
     "traceback": [
      "\u001b[1;31m---------------------------------------------------------------------------\u001b[0m",
      "\u001b[1;31mKeyError\u001b[0m                                  Traceback (most recent call last)",
      "\u001b[1;32m<ipython-input-31-99be7cd11b01>\u001b[0m in \u001b[0;36m<module>\u001b[1;34m\u001b[0m\n\u001b[0;32m     39\u001b[0m     \u001b[1;31m# model fitting\u001b[0m\u001b[1;33m\u001b[0m\u001b[1;33m\u001b[0m\u001b[1;33m\u001b[0m\u001b[0m\n\u001b[0;32m     40\u001b[0m     \u001b[1;32mreturn\u001b[0m \u001b[0mhistory\u001b[0m\u001b[1;33m.\u001b[0m\u001b[0mepoch\u001b[0m\u001b[1;33m,\u001b[0m \u001b[0mhistory\u001b[0m\u001b[1;33m.\u001b[0m\u001b[0mhistory\u001b[0m\u001b[1;33m[\u001b[0m\u001b[1;34m'acc'\u001b[0m\u001b[1;33m]\u001b[0m\u001b[1;33m[\u001b[0m\u001b[1;33m-\u001b[0m\u001b[1;36m1\u001b[0m\u001b[1;33m]\u001b[0m\u001b[1;33m\u001b[0m\u001b[1;33m\u001b[0m\u001b[0m\n\u001b[1;32m---> 41\u001b[1;33m \u001b[0mtrain_mnist\u001b[0m\u001b[1;33m(\u001b[0m\u001b[1;33m)\u001b[0m\u001b[1;33m\u001b[0m\u001b[1;33m\u001b[0m\u001b[0m\n\u001b[0m",
      "\u001b[1;32m<ipython-input-31-99be7cd11b01>\u001b[0m in \u001b[0;36mtrain_mnist\u001b[1;34m()\u001b[0m\n\u001b[0;32m     38\u001b[0m     )\n\u001b[0;32m     39\u001b[0m     \u001b[1;31m# model fitting\u001b[0m\u001b[1;33m\u001b[0m\u001b[1;33m\u001b[0m\u001b[1;33m\u001b[0m\u001b[0m\n\u001b[1;32m---> 40\u001b[1;33m     \u001b[1;32mreturn\u001b[0m \u001b[0mhistory\u001b[0m\u001b[1;33m.\u001b[0m\u001b[0mepoch\u001b[0m\u001b[1;33m,\u001b[0m \u001b[0mhistory\u001b[0m\u001b[1;33m.\u001b[0m\u001b[0mhistory\u001b[0m\u001b[1;33m[\u001b[0m\u001b[1;34m'acc'\u001b[0m\u001b[1;33m]\u001b[0m\u001b[1;33m[\u001b[0m\u001b[1;33m-\u001b[0m\u001b[1;36m1\u001b[0m\u001b[1;33m]\u001b[0m\u001b[1;33m\u001b[0m\u001b[1;33m\u001b[0m\u001b[0m\n\u001b[0m\u001b[0;32m     41\u001b[0m \u001b[0mtrain_mnist\u001b[0m\u001b[1;33m(\u001b[0m\u001b[1;33m)\u001b[0m\u001b[1;33m\u001b[0m\u001b[1;33m\u001b[0m\u001b[0m\n",
      "\u001b[1;31mKeyError\u001b[0m: 'acc'"
     ]
    }
   ],
   "source": [
    "# GRADED FUNCTION: train_mnist\n",
    "def train_mnist():\n",
    "    # Please write your code only where you are indicated.\n",
    "    # please do not remove # model fitting inline comments.\n",
    "\n",
    "    # YOUR CODE SHOULD START HERE\n",
    "    class myCallback(tf.keras.callbacks.Callback):\n",
    "        def on_epoch_end(self, epoch, logs={}):\n",
    "            if(logs.get('accuracy')>0.99):\n",
    "                print(\"\\nReached 99% accuracy so cancelling training!\")\n",
    "                self.model.stop_training = True\n",
    "    # YOUR CODE SHOULD END HERE\n",
    "\n",
    "    mnist = tf.keras.datasets.mnist\n",
    "\n",
    "    (x_train, y_train),(x_test, y_test) = mnist.load_data()\n",
    "    # YOUR CODE SHOULD START HERE\n",
    "    callbacks = myCallback()\n",
    "    x_train = x_train / 255.0\n",
    "    x_test = x_test / 255.0\n",
    "    # YOUR CODE SHOULD END HERE\n",
    "    model = tf.keras.models.Sequential([\n",
    "        # YOUR CODE SHOULD START HERE\n",
    "        tf.keras.layers.Flatten(),\n",
    "        tf.keras.layers.Dense(units=512,activation = tf.nn.relu),\n",
    "        tf.keras.layers.Dense(10, activation = tf.nn.softmax)\n",
    "        # YOUR CODE SHOULD END HERE\n",
    "    ])\n",
    "\n",
    "    model.compile(optimizer='adam',\n",
    "                  loss='sparse_categorical_crossentropy',\n",
    "                  metrics=['accuracy'])\n",
    "    \n",
    "    # model fitting\n",
    "    history = model.fit(# YOUR CODE SHOULD START HERE\n",
    "        x_train,y_train, epochs=5, callbacks=[callbacks]\n",
    "              # YOUR CODE SHOULD END HERE\n",
    "    )\n",
    "    # model fitting\n",
    "    return history.epoch, history.history['acc'][-1]\n",
    "train_mnist()"
   ]
  },
  {
   "cell_type": "code",
   "execution_count": null,
   "id": "insured-district",
   "metadata": {},
   "outputs": [],
   "source": []
  }
 ],
 "metadata": {
  "kernelspec": {
   "display_name": "Python 3",
   "language": "python",
   "name": "python3"
  },
  "language_info": {
   "codemirror_mode": {
    "name": "ipython",
    "version": 3
   },
   "file_extension": ".py",
   "mimetype": "text/x-python",
   "name": "python",
   "nbconvert_exporter": "python",
   "pygments_lexer": "ipython3",
   "version": "3.8.5"
  }
 },
 "nbformat": 4,
 "nbformat_minor": 5
}
